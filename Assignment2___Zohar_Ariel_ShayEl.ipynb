{
  "cells": [
    {
      "cell_type": "markdown",
      "metadata": {
        "id": "view-in-github",
        "colab_type": "text"
      },
      "source": [
        "<a href=\"https://colab.research.google.com/github/ArielFix/Intro2DL/blob/OnGoingAssignment2/Assignment2___Zohar_Ariel_ShayEl.ipynb\" target=\"_parent\"><img src=\"https://colab.research.google.com/assets/colab-badge.svg\" alt=\"Open In Colab\"/></a>"
      ]
    },
    {
      "cell_type": "markdown",
      "metadata": {
        "id": "Cx3i2Op-6X5n"
      },
      "source": [
        "# Assignment 2: Word Prediction\n",
        "\n",
        "**Deadline**: Sunday, December 11th, by 8pm.\n",
        "\n",
        "**Submission**: Submit a PDF export of the completed notebook as well as the ipynb file. \n",
        "\n",
        " \n",
        "\n",
        "In this assignment, we will make a neural network that can predict the next word\n",
        "in a sentence given the previous three.  \n",
        "In doing this prediction task, our neural networks will learn about *words* and about\n",
        "how to represent words. We'll explore the *vector representations* of words that our\n",
        "model produces, and analyze these representations.\n",
        "\n",
        "You may modify the starter code as you see fit, including changing the signatures of functions and adding/removing helper functions. However, please make sure that you properly explain what you are doing and why."
      ]
    },
    {
      "cell_type": "code",
      "execution_count": 5,
      "metadata": {
        "id": "2zdEvcdO6X5s"
      },
      "outputs": [],
      "source": [
        "import pandas\n",
        "import numpy as np\n",
        "import matplotlib.pyplot as plt\n",
        "import collections\n",
        "\n",
        "import torch\n",
        "import torch.nn as nn\n",
        "import torch.optim as optim"
      ]
    },
    {
      "cell_type": "markdown",
      "metadata": {
        "id": "sQYtUQTH6X5t"
      },
      "source": [
        "## Question 1. Data (18%)\n",
        "\n",
        "With any machine learning problem, the first thing that we would want to do\n",
        "is to get an intuitive understanding of what our data looks like. Download the file\n",
        "`raw_sentences.txt` from the course page on Moodle and upload it to Google Drive.\n",
        "Then, mount Google Drive from your Google Colab notebook:"
      ]
    },
    {
      "cell_type": "code",
      "execution_count": 6,
      "metadata": {
        "id": "9eWXHhCe6X5t",
        "colab": {
          "base_uri": "https://localhost:8080/"
        },
        "outputId": "21672eba-7681-4629-b0dd-3180a080a61e"
      },
      "outputs": [
        {
          "output_type": "stream",
          "name": "stdout",
          "text": [
            "Mounted at /content/gdrive\n"
          ]
        }
      ],
      "source": [
        "from google.colab import drive\n",
        "drive.mount('/content/gdrive')"
      ]
    },
    {
      "cell_type": "markdown",
      "metadata": {
        "id": "Hteg6bwv6X5t"
      },
      "source": [
        "Find the path to `raw_sentences.txt`:"
      ]
    },
    {
      "cell_type": "code",
      "execution_count": 7,
      "metadata": {
        "id": "ALMsGfFi6X5u"
      },
      "outputs": [],
      "source": [
        "file_path = '/content/gdrive/My Drive/MSc/Courses/Into to Deep Learnig/Assignments/2/raw_sentences.txt' # TODO - UPDATE ME!"
      ]
    },
    {
      "cell_type": "markdown",
      "metadata": {
        "id": "PD5uXTle6X5u"
      },
      "source": [
        "The following code reads the sentences in our file, split each sentence into\n",
        "its individual words, and stores the sentences (list of words) in the\n",
        "variable `sentences`."
      ]
    },
    {
      "cell_type": "code",
      "execution_count": 8,
      "metadata": {
        "id": "75NXJO_T6X5v"
      },
      "outputs": [],
      "source": [
        "sentences = []\n",
        "for line in open(file_path):\n",
        "    words = line.split()\n",
        "    sentence = [word.lower() for word in words]\n",
        "    sentences.append(sentence)"
      ]
    },
    {
      "cell_type": "markdown",
      "metadata": {
        "id": "nbP0-e_U6X5v"
      },
      "source": [
        "There are 97,162 sentences in total, and \n",
        "these sentences are composed of 250 distinct words."
      ]
    },
    {
      "cell_type": "code",
      "execution_count": 9,
      "metadata": {
        "id": "OLUp8rZT6X5v",
        "colab": {
          "base_uri": "https://localhost:8080/"
        },
        "outputId": "a78db764-b456-4e39-abfb-c63cca779956"
      },
      "outputs": [
        {
          "output_type": "stream",
          "name": "stdout",
          "text": [
            "97162\n",
            "250\n"
          ]
        }
      ],
      "source": [
        "vocab = set([w for s in sentences for w in s])\n",
        "print(len(sentences)) # 97162\n",
        "print(len(vocab)) # 250"
      ]
    },
    {
      "cell_type": "markdown",
      "metadata": {
        "id": "KB77tJrU6X5v"
      },
      "source": [
        "We'll separate our data into training, validation, and test.\n",
        "We'll use `10,000 sentences for test, 10,000 for validation, and\n",
        "the rest for training."
      ]
    },
    {
      "cell_type": "code",
      "execution_count": 10,
      "metadata": {
        "id": "xJQRB6RJ6X5v"
      },
      "outputs": [],
      "source": [
        "test, valid, train = sentences[:10000], sentences[10000:20000], sentences[20000:]"
      ]
    },
    {
      "cell_type": "markdown",
      "metadata": {
        "id": "aUj7fsi06X5v"
      },
      "source": [
        "### Part (a) -- 3%\n",
        "\n",
        "**Display** 10 sentences in the training set.\n",
        "**Explain** how punctuations are treated in our word representation, and how words\n",
        "with apostrophes are represented."
      ]
    },
    {
      "cell_type": "code",
      "execution_count": 11,
      "metadata": {
        "id": "90AmLcpF6X5w",
        "colab": {
          "base_uri": "https://localhost:8080/"
        },
        "outputId": "a984df66-b566-44da-a5df-92de15d13e18"
      },
      "outputs": [
        {
          "output_type": "execute_result",
          "data": {
            "text/plain": [
              "[['but', 'for', 'me', ',', 'now', ',', 'this', 'is', 'it', '.'],\n",
              " ['she', \"'s\", 'still', 'there', 'for', 'us', '.'],\n",
              " ['it', \"'s\", 'part', 'of', 'this', 'game', ',', 'man', '.'],\n",
              " ['it', 'was', ':', 'how', 'do', 'we', 'get', 'there', '?'],\n",
              " ['but', 'they', 'do', 'nt', 'last', 'too', 'long', '.'],\n",
              " ['more', 'are', 'like', 'me', ',', 'she', 'said', '.'],\n",
              " ['who', 'do', 'you', 'think', 'they', 'want', 'to', 'be', 'like', '?'],\n",
              " ['no', ',', 'he', 'could', 'not', '.'],\n",
              " ['so', 'i', 'left', 'it', 'up', 'to', 'them', '.'],\n",
              " ['we', 'were', 'nt', 'right', '.']]"
            ]
          },
          "metadata": {},
          "execution_count": 11
        }
      ],
      "source": [
        "train[10:20]"
      ]
    },
    {
      "cell_type": "markdown",
      "metadata": {
        "id": "swyMJHYN-Taa"
      },
      "source": [
        "**Write your answers here:**"
      ]
    },
    {
      "cell_type": "markdown",
      "metadata": {
        "id": "-GkjVOwi1ef8"
      },
      "source": [
        "we can see that punctuation is counted as a different word, and words with apostrophes are separated (sometimes not containing the apostrophe e.g. train\\[19\\]). "
      ]
    },
    {
      "cell_type": "markdown",
      "metadata": {
        "id": "R2erKpOJ6X5w"
      },
      "source": [
        "### Part (b) -- 4%\n",
        "\n",
        "**Print** the 10 most common words in the vocabulary and how often does each of these\n",
        "words appear in the training sentences. Express the second quantity as a percentage\n",
        "(i.e. number of occurences of the  word / total number of words in the training set).\n",
        "\n",
        "These are useful quantities to compute, because one of the first things a machine learning model will learn is to predict the **most common** class. Getting a sense of the\n",
        "distribution of our data will help you understand our model's behaviour.\n",
        "\n",
        "You can use Python's `collections.Counter` class if you would like to."
      ]
    },
    {
      "cell_type": "code",
      "execution_count": 12,
      "metadata": {
        "id": "pqSZO_a36X5w",
        "colab": {
          "base_uri": "https://localhost:8080/"
        },
        "outputId": "9df080f1-840f-4d6f-e153-be648c3270f0"
      },
      "outputs": [
        {
          "output_type": "stream",
          "name": "stdout",
          "text": [
            "the word '.' apears in 10.70% of the training set\n",
            "the word 'it' apears in 3.85% of the training set\n",
            "the word ',' apears in 3.25% of the training set\n",
            "the word 'i' apears in 2.94% of the training set\n",
            "the word 'do' apears in 2.69% of the training set\n",
            "the word 'to' apears in 2.58% of the training set\n",
            "the word 'nt' apears in 2.16% of the training set\n",
            "the word '?' apears in 2.14% of the training set\n",
            "the word 'the' apears in 2.09% of the training set\n",
            "the word ''s' apears in 2.09% of the training set\n"
          ]
        }
      ],
      "source": [
        "from re import findall\n",
        "# Your code goes here\n",
        "words_count = collections.Counter([i for sublist in train for i in sublist])\n",
        "total_words_sum = sum(words_count.values())\n",
        "commomn_words_count = words_count.most_common(10)\n",
        "for i in commomn_words_count:\n",
        "  print(\"the word '{}' apears in {:.2f}% of the training set\".format(i[0], i[1]/total_words_sum*100))"
      ]
    },
    {
      "cell_type": "markdown",
      "metadata": {
        "id": "j4CHlVRI6X5w"
      },
      "source": [
        "### Part (c) -- 11%\n",
        "\n",
        "Our neural network will take as input three words and predict the next one. Therefore, we need our data set to be comprised of seuqnces of four consecutive words in a sentence, referred to as *4grams*. \n",
        "\n",
        "**Complete** the helper functions `convert_words_to_indices` and\n",
        "`generate_4grams`, so that the function `process_data` will take a \n",
        "list of sentences (i.e. list of list of words), and generate an \n",
        "$N \\times 4$ numpy matrix containing indices of 4 words that appear\n",
        "next to each other, where $N$ is the number of 4grams (sequences of 4 words appearing one after the other) that can be found in the complete list of sentences. Examples of how these functions should operate are detailed in the code below. \n",
        "\n",
        "You can use the defined `vocab`, `vocab_itos`,\n",
        "and `vocab_stoi` in your code."
      ]
    },
    {
      "cell_type": "code",
      "execution_count": 13,
      "metadata": {
        "id": "IUZsxdHk6X5w"
      },
      "outputs": [],
      "source": [
        "from tqdm import tqdm\n",
        "# A list of all the words in the data set. We will assign a unique \n",
        "# identifier for each of these words.\n",
        "vocab = sorted(list(set([w for s in train for w in s])))\n",
        "# A mapping of index => word (string)\n",
        "vocab_itos = dict(enumerate(vocab))\n",
        "# A mapping of word => its index\n",
        "vocab_stoi = {word:index for index, word in vocab_itos.items()}\n",
        "\n",
        "def convert_words_to_indices(sents):\n",
        "    \"\"\"\n",
        "    This function takes a list of sentences (list of list of words)\n",
        "    and returns a new list with the same structure, but where each word\n",
        "    is replaced by its index in `vocab_stoi`.\n",
        "\n",
        "    Example:\n",
        "    >>> convert_words_to_indices([['one', 'in', 'five', 'are', 'over', 'here'], ['other', 'one', 'since', 'yesterday'], ['you']])\n",
        "    [[148, 98, 70, 23, 154, 89], [151, 148, 181, 246], [248]]\n",
        "    \"\"\"\n",
        "    return [[vocab_stoi[w] for w in sent] for sent in sents]\n",
        "\n",
        "def _generate_4grams(seq):\n",
        "    n = 4\n",
        "    N = len(seq)\n",
        "    a = tuple(zip(*[seq[i:] for i in range(n)]))\n",
        "    return a\n",
        "\n",
        "def generate_4grams(seqs):\n",
        "    \"\"\"\n",
        "    This function takes a list of sentences (list of lists) and returns\n",
        "    a new list containing the 4-grams (four consequentively occuring words)\n",
        "    that appear in the sentences. Note that a unique 4-gram can appear multiple\n",
        "    times, one per each time that the 4-gram appears in the data parameter `seqs`.\n",
        "\n",
        "    Example:\n",
        "\n",
        "    >>> generate_4grams([[148, 98, 70, 23, 154, 89], [151, 148, 181, 246], [248]])\n",
        "    [[148, 98, 70, 23], [98, 70, 23, 154], [70, 23, 154, 89], [151, 148, 181, 246]]\n",
        "    >>> generate_4grams([[1, 1, 1, 1, 1]])\n",
        "    [[1, 1, 1, 1], [1, 1, 1, 1]]\n",
        "    \"\"\"\n",
        "    return np.concatenate(tuple(map(_generate_4grams, seqs)))\n",
        "\n",
        "def process_data(sents):\n",
        "    \"\"\"\n",
        "    This function takes a list of sentences (list of lists), and generates an\n",
        "    numpy matrix with shape [N, 4] containing indices of words in 4-grams.\n",
        "    \"\"\"\n",
        "    indices = convert_words_to_indices(sents)\n",
        "    fourgrams = generate_4grams(indices)\n",
        "    return np.array(fourgrams)\n",
        "\n",
        "# We can now generate our data which will be used to train and test the network\n",
        "train4grams = process_data(train)\n",
        "valid4grams = process_data(valid)\n",
        "test4grams = process_data(test)"
      ]
    },
    {
      "cell_type": "markdown",
      "metadata": {
        "id": "3Rv-6sNm6X5x"
      },
      "source": [
        "## Question 2. A Multi-Layer Perceptron (44%)\n",
        "\n",
        "In this section, we will build a two-layer multi-layer perceptron. \n",
        "Our model will look like this:\n",
        "\n",
        "<img src=\"https://drive.google.com/uc?id=15uMLB-YsMHSOr0EQfTRhWd4o9enIOjUe\">\n",
        "\n",
        "Since the sentences in the data are comprised of $250$ distinct words, our task boils down to claissfication where the label space $\\mathcal{S}$ is of cardinality $|\\mathcal{S}|=250$ while our input, which is comprised of a combination of three words, is treated as a vector of size $750\\times 1$ (i.e., the concatanation of three one-hot $250\\times 1$ vectors).\n",
        "\n",
        "The following function `get_batch` will take as input the whole dataset and output a single batch for the training. The output size of the batch is explained below.\n",
        "\n",
        "**Implement** yourself a function `make_onehot` which takes the data in index notation and output it in a onehot notation.\n",
        "\n",
        "Start by reviewing the helper function, which is given to you:"
      ]
    },
    {
      "cell_type": "code",
      "execution_count": 14,
      "metadata": {
        "id": "ZsqTLOoJ6X5x"
      },
      "outputs": [],
      "source": [
        "def make_onehot(data):\n",
        "    \"\"\"\n",
        "    Convert one batch of data in the index notation into its corresponding onehot\n",
        "    notation. Remember, the function should work for both xt and st. \n",
        "     \n",
        "    input - vector with shape D (1D or 2D)\n",
        "    output - vector with shape (D,250)\n",
        "    \"\"\"\n",
        "    return (np.arange(250) == data[...,None]).astype(int)\n",
        "\n",
        "def get_batch(data, range_min, range_max, onehot=True):\n",
        "    \"\"\"\n",
        "    Convert one batch of data in the form of 4-grams into input and output\n",
        "    data and return the training data (xt, st) where:\n",
        "     - `xt` is an numpy array of one-hot vectors of shape [batch_size, 3, 250]\n",
        "     - `st` is either\n",
        "            - a numpy array of shape [batch_size, 250] if onehot is True,\n",
        "            - a numpy array of shape [batch_size] containing indicies otherwise\n",
        "\n",
        "    Preconditions:\n",
        "     - `data` is a numpy array of shape [N, 4] produced by a call\n",
        "        to `process_data`\n",
        "     - range_max > range_min\n",
        "    \"\"\"\n",
        "    xt = data[range_min:range_max, :3]\n",
        "    xt = make_onehot(xt)\n",
        "    st = data[range_min:range_max, 3]\n",
        "    if onehot:\n",
        "        st = make_onehot(st).reshape(-1, 250)\n",
        "    return xt, st\n"
      ]
    },
    {
      "cell_type": "markdown",
      "metadata": {
        "id": "qvLuZpH-6X52"
      },
      "source": [
        "### Part (a) -- 8%\n",
        "\n",
        "We build the model in PyTorch. Since PyTorch uses automatic\n",
        "differentiation, we only need to write the *forward pass* of our\n",
        "model. \n",
        "\n",
        "**Complete** the `forward` function below:"
      ]
    },
    {
      "cell_type": "code",
      "execution_count": 15,
      "metadata": {
        "id": "iMzWMUB16X52"
      },
      "outputs": [],
      "source": [
        "class PyTorchMLP(nn.Module):\n",
        "    def __init__(self, num_hidden=400):\n",
        "        super(PyTorchMLP, self).__init__()\n",
        "        self.layer1 = nn.Linear(750, num_hidden)\n",
        "        self.layer2 = nn.Linear(num_hidden, 250)\n",
        "        self.num_hidden = num_hidden\n",
        "    def forward(self, inp):\n",
        "        inp = inp.reshape([-1, 750])\n",
        "        hidden = torch.relu(self.layer1.forward(inp))\n",
        "        return self.layer2.forward(hidden)"
      ]
    },
    {
      "cell_type": "markdown",
      "metadata": {
        "id": "114NF7If6X52"
      },
      "source": [
        "### Part (b) -- 10%\n",
        "\n",
        "We next  train the PyTorch model using the Adam optimizer and the cross entropy loss.\n",
        "\n",
        "**Complete** the function `run_pytorch_gradient_descent`, and use it to train your PyTorch MLP model.\n",
        "\n",
        "**Obtain** a training accuracy of at least 35% while changing only the hyperparameters of the train function.\n",
        "\n",
        "Plot the learning curve using the `plot_learning_curve` function provided\n",
        "to you, and include your plot in your PDF submission."
      ]
    },
    {
      "cell_type": "code",
      "execution_count": 16,
      "metadata": {
        "id": "LY70vUCZ6X52"
      },
      "outputs": [],
      "source": [
        "def estimate_accuracy_torch(model, data, batch_size=5000, max_N=100000):\n",
        "    \"\"\"\n",
        "    Estimate the accuracy of the model on the data. To reduce\n",
        "    computation time, use at most `max_N` elements of `data` to\n",
        "    produce the estimate.\n",
        "    \"\"\"\n",
        "    correct = 0\n",
        "    N = 0\n",
        "    for i in range(0, data.shape[0], batch_size):\n",
        "        # get a batch of data\n",
        "        xt, st = get_batch(data, i, i + batch_size, onehot=False)\n",
        "        \n",
        "        # forward pass prediction\n",
        "        y = model(torch.Tensor(xt))\n",
        "        y = y.detach().numpy() # convert the PyTorch tensor => numpy array\n",
        "        pred = np.argmax(y, axis=1)\n",
        "        correct += np.sum(pred == st)\n",
        "        N += st.shape[0]\n",
        "\n",
        "        if N > max_N:\n",
        "            break\n",
        "    return correct / N\n",
        "\n",
        "def run_pytorch_gradient_descent(model,\n",
        "                                 train_data=train4grams,\n",
        "                                 validation_data=valid4grams,\n",
        "                                 batch_size=100,\n",
        "                                 learning_rate=0.001,\n",
        "                                 weight_decay=0,\n",
        "                                 max_iters=1000,\n",
        "                                 checkpoint_path=None):\n",
        "    \"\"\"\n",
        "    Train the PyTorch model on the dataset `train_data`, reporting\n",
        "    the validation accuracy on `validation_data`, for `max_iters`\n",
        "    iteration.\n",
        "\n",
        "    If you want to **checkpoint** your model weights (i.e. save the\n",
        "    model weights to Google Drive), then the parameter\n",
        "    `checkpoint_path` should be a string path with `{}` to be replaced\n",
        "    by the iteration count:\n",
        "\n",
        "    For example, calling \n",
        "\n",
        "    >>> run_pytorch_gradient_descent(model, ...,\n",
        "            checkpoint_path = '/content/gdrive/My Drive/Intro_to_Deep_Learning/mlp/ckpt-{}.pk')\n",
        "\n",
        "    will save the model parameters in Google Drive every 500 iterations.\n",
        "    You will have to make sure that the path exists (i.e. you'll need to create\n",
        "    the folder Intro_to_Deep_Learning, mlp, etc...). Your Google Drive will be populated with files:\n",
        "\n",
        "    - /content/gdrive/My Drive/Intro_to_Deep_Learning/mlp/ckpt-500.pk\n",
        "    - /content/gdrive/My Drive/Intro_to_Deep_Learning/mlp/ckpt-1000.pk\n",
        "    - ...\n",
        "\n",
        "    To load the weights at a later time, you can run:\n",
        "\n",
        "    >>> model.load_state_dict(torch.load('/content/gdrive/My Drive/Intro_to_Deep_Learning/mlp/ckpt-500.pk'))\n",
        "\n",
        "    This function returns the training loss, and the training/validation accuracy,\n",
        "    which we can use to plot the learning curve.\n",
        "    \"\"\"\n",
        "    criterion = nn.CrossEntropyLoss()\n",
        "    optimizer = optim.Adam(model.parameters(),\n",
        "                           lr=learning_rate,\n",
        "                           weight_decay=weight_decay)\n",
        "\n",
        "    iters, losses = [], []\n",
        "    iters_sub, train_accs, val_accs  = [], [] ,[]\n",
        "\n",
        "    n = 0 # the number of iterations\n",
        "    while True:\n",
        "        for i in range(0, train_data.shape[0], batch_size):\n",
        "            if (i + batch_size) > train_data.shape[0]:\n",
        "                break\n",
        "\n",
        "            # get the input and targets of a minibatch\n",
        "            xt, st = get_batch(train_data, i, i + batch_size, onehot=False)\n",
        "\n",
        "            # convert from numpy arrays to PyTorch tensors\n",
        "            xt = torch.Tensor(xt)\n",
        "            st = torch.Tensor(st).long()\n",
        "\n",
        "            # zs = ...                 # compute prediction logit\n",
        "            # loss =                   # compute the total loss\n",
        "            # ...                      # compute updates for each parameter\n",
        "            # ...                      # make the updates for each parameter\n",
        "            # ...                      # a clean up step for PyTorch\n",
        "            zs = model.forward(xt)\n",
        "            loss = criterion(zs, st)\n",
        "            loss.backward()\n",
        "            optimizer.step()\n",
        "            optimizer.zero_grad()\n",
        "\n",
        "            # save the current training information\n",
        "            iters.append(n)\n",
        "            losses.append(float(loss)/batch_size)  # compute *average* loss\n",
        "\n",
        "            if n % 100 == 0:\n",
        "                iters_sub.append(n)\n",
        "                train_cost = float(loss.detach().numpy())\n",
        "                train_acc = estimate_accuracy_torch(model, train_data)\n",
        "                train_accs.append(train_acc)\n",
        "                val_acc = estimate_accuracy_torch(model, validation_data)\n",
        "                val_accs.append(val_acc)\n",
        "                print(\"Iter %d. [Val Acc %.0f%%] [Train Acc %.0f%%, Loss %f]\" % (\n",
        "                      n, val_acc * 100, train_acc * 100, train_cost))\n",
        "\n",
        "                if (checkpoint_path is not None) and n > 0:\n",
        "                    torch.save(model.state_dict(), checkpoint_path.format(n))\n",
        "\n",
        "            # increment the iteration number\n",
        "            n += 1\n",
        "\n",
        "            if n > max_iters:\n",
        "                return iters, losses, iters_sub, train_accs, val_accs\n",
        "\n",
        "\n",
        "def plot_learning_curve(iters, losses, iters_sub, train_accs, val_accs):\n",
        "    \"\"\"\n",
        "    Plot the learning curve.\n",
        "    \"\"\"\n",
        "    plt.title(\"Learning Curve: Loss per Iteration\")\n",
        "    plt.plot(iters, losses, label=\"Train\")\n",
        "    plt.xlabel(\"Iterations\")\n",
        "    plt.ylabel(\"Loss\")\n",
        "    plt.show()\n",
        "\n",
        "    plt.title(\"Learning Curve: Accuracy per Iteration\")\n",
        "    plt.plot(iters_sub, train_accs, label=\"Train\")\n",
        "    plt.plot(iters_sub, val_accs, label=\"Validation\")\n",
        "    plt.xlabel(\"Iterations\")\n",
        "    plt.ylabel(\"Accuracy\")\n",
        "    plt.legend(loc='best')\n",
        "    plt.show()"
      ]
    },
    {
      "cell_type": "code",
      "execution_count": 17,
      "metadata": {
        "id": "DXBq-1F86X52",
        "colab": {
          "base_uri": "https://localhost:8080/",
          "height": 764
        },
        "outputId": "4f0f61c8-fb04-4df4-ba24-855dc707bf3b"
      },
      "outputs": [
        {
          "output_type": "stream",
          "name": "stdout",
          "text": [
            "Iter 0. [Val Acc 16%] [Train Acc 17%, Loss 5.516607]\n",
            "Iter 100. [Val Acc 32%] [Train Acc 32%, Loss 2.939257]\n",
            "Iter 200. [Val Acc 34%] [Train Acc 36%, Loss 2.696874]\n",
            "Iter 300. [Val Acc 36%] [Train Acc 37%, Loss 2.601650]\n",
            "Iter 400. [Val Acc 36%] [Train Acc 38%, Loss 2.489974]\n",
            "Iter 500. [Val Acc 37%] [Train Acc 39%, Loss 2.487646]\n",
            "Iter 600. [Val Acc 37%] [Train Acc 39%, Loss 2.425320]\n",
            "Iter 700. [Val Acc 37%] [Train Acc 40%, Loss 2.379982]\n",
            "Iter 800. [Val Acc 38%] [Train Acc 41%, Loss 2.354077]\n",
            "Iter 900. [Val Acc 38%] [Train Acc 41%, Loss 2.287531]\n",
            "Iter 1000. [Val Acc 38%] [Train Acc 42%, Loss 2.242963]\n"
          ]
        },
        {
          "output_type": "display_data",
          "data": {
            "text/plain": [
              "<Figure size 432x288 with 1 Axes>"
            ],
            "image/png": "[encoded data removed]"
          },
          "metadata": {
            "needs_background": "light"
          }
        },
        {
          "output_type": "display_data",
          "data": {
            "text/plain": [
              "<Figure size 432x288 with 1 Axes>"
            ],
            "image/png": "[encoded data removed]"
          },
          "metadata": {
            "needs_background": "light"
          }
        }
      ],
      "source": [
        "pytorch_mlp = PyTorchMLP()\n",
        "learning_curve_info = run_pytorch_gradient_descent(pytorch_mlp, batch_size=10000, learning_rate=0.002)\n",
        "\n",
        "\n",
        "plot_learning_curve(*learning_curve_info)"
      ]
    },
    {
      "cell_type": "markdown",
      "metadata": {
        "id": "xcXqpx0v6X52"
      },
      "source": [
        "### Part (c) -- 10%\n",
        "**Write** a function `make_prediction` that takes as parameters\n",
        "a PyTorchMLP model and sentence (a list of words), and produces\n",
        "a prediction for the next word in the sentence.\n",
        " "
      ]
    },
    {
      "cell_type": "code",
      "execution_count": 18,
      "metadata": {
        "id": "O2jOK7B26X52",
        "colab": {
          "base_uri": "https://localhost:8080/",
          "height": 36
        },
        "outputId": "717c47af-617a-487e-f7c8-b4ef53ce45b0"
      },
      "outputs": [
        {
          "output_type": "execute_result",
          "data": {
            "text/plain": [
              "'man'"
            ],
            "application/vnd.google.colaboratory.intrinsic+json": {
              "type": "string"
            }
          },
          "metadata": {},
          "execution_count": 18
        }
      ],
      "source": [
        "def make_prediction_torch(model, sentence):\n",
        "    \"\"\"\n",
        "    Use the model to make a prediction for the next word in the\n",
        "    sentence using the last 3 words (sentence[:-3]). You may assume\n",
        "    that len(sentence) >= 3 and that `model` is an instance of\n",
        "    PYTorchMLP.\n",
        "\n",
        "    This function should return the next word, represented as a string.\n",
        "\n",
        "    Example call:\n",
        "    >>> make_prediction_torch(pytorch_mlp, ['you', 'are', 'a'])\n",
        "    \"\"\"\n",
        "    global vocab_stoi, vocab_itos\n",
        "\n",
        "    x = np.array([vocab_stoi[w] for w in sentence[-3:]])\n",
        "    y = model.forward(torch.Tensor(make_onehot(x)))\n",
        "    return  vocab_itos[np.argmax(y.detach().numpy(),axis=1)[0]]\n",
        "\n",
        "make_prediction_torch(pytorch_mlp, [\"you\", \"are\", 'a'])\n"
      ]
    },
    {
      "cell_type": "markdown",
      "metadata": {
        "id": "mHvIKjYg6X53"
      },
      "source": [
        "### Part (d) -- 10%\n",
        "\n",
        "Use your code to predict what the next word should be in each\n",
        "of the following sentences:\n",
        "\n",
        "- \"You are a\"\n",
        "- \"few companies show\"\n",
        "- \"There are no\"\n",
        "- \"yesterday i was\"\n",
        "- \"the game had\"\n",
        "- \"yesterday the federal\"\n",
        "\n",
        "Do your predictions make sense?\n",
        "\n",
        "In many cases where you overfit the model can either output the same results for all inputs or just memorize the dataset. \n",
        "\n",
        "**Print** the output for all of these sentences and \n",
        "**Write** below if you encounter these effects or something else which indicates overfitting, if you do train again with better hyperparameters.\n",
        "\n",
        "\n"
      ]
    },
    {
      "cell_type": "code",
      "execution_count": 19,
      "metadata": {
        "id": "kdzhshY56X53",
        "colab": {
          "base_uri": "https://localhost:8080/"
        },
        "outputId": "f41f880d-e54f-47be-aca0-5087e5fe4da9"
      },
      "outputs": [
        {
          "output_type": "stream",
          "name": "stdout",
          "text": [
            "man\n",
            ".\n",
            "other\n",
            "nt\n",
            "to\n",
            "government\n"
          ]
        }
      ],
      "source": [
        "print(make_prediction_torch(pytorch_mlp, [\"you\", \"are\", 'a']))\n",
        "print(make_prediction_torch(pytorch_mlp, [\"few\", \"companies\", 'show']))\n",
        "print(make_prediction_torch(pytorch_mlp, [\"there\", \"are\", 'no']))\n",
        "print(make_prediction_torch(pytorch_mlp, [\"yesterday\", \"i\", 'was']))\n",
        "print(make_prediction_torch(pytorch_mlp, [\"the\", \"game\", 'had']))\n",
        "print(make_prediction_torch(pytorch_mlp, [\"yesterday\", \"the\", 'federal']))"
      ]
    },
    {
      "cell_type": "markdown",
      "metadata": {
        "id": "mTfh4MwjAlGB"
      },
      "source": [
        "**Write your answers here:**"
      ]
    },
    {
      "cell_type": "markdown",
      "metadata": {
        "id": "0KIa1GAb1egE"
      },
      "source": [
        "I don't see any indication for overfitting and the results seem fine. (the nt is annoying and fixing will require dataset preprocessing)"
      ]
    },
    {
      "cell_type": "markdown",
      "metadata": {
        "id": "F4QBM0fo6X53"
      },
      "source": [
        "### Part (e) -- 6%\n",
        "\n",
        "Report the test accuracy of your model"
      ]
    },
    {
      "cell_type": "code",
      "execution_count": 21,
      "metadata": {
        "id": "Sq31oqDR6X53",
        "colab": {
          "base_uri": "https://localhost:8080/"
        },
        "outputId": "fd509317-7688-4dbc-f324-acf6ebfe94d2"
      },
      "outputs": [
        {
          "output_type": "execute_result",
          "data": {
            "text/plain": [
              "0.38559649305917965"
            ]
          },
          "metadata": {},
          "execution_count": 21
        }
      ],
      "source": [
        "# Write your code here\n",
        "estimate_accuracy_torch(pytorch_mlp, test4grams)"
      ]
    },
    {
      "cell_type": "markdown",
      "metadata": {
        "id": "Xlr7C8yg6X53"
      },
      "source": [
        "## Question 3. Learning Word Embeddings (24 %)\n",
        "\n",
        "In this section, we will build a slightly different model with a different\n",
        "architecture. In particular, we will first compute a lower-dimensional\n",
        "*representation* of the three words, before using a multi-layer perceptron.\n",
        "\n",
        "Our model will look like this:\n",
        "\n",
        "<img src=\"https://drive.google.com/uc?id=16lXygLTSuRgOCj6UWK0vHkSoyRJWfMSZ\" />\n",
        " \n",
        "\n",
        "This model has 3 layers instead of 2, but the first layer of the network\n",
        "is **not** fully-connected. Instead, we compute the representations of each\n",
        "of the three words **separately**. In addition, the first layer of the network\n",
        "will not use any biases. The reason for this will be clear in question 4.\n",
        " "
      ]
    },
    {
      "cell_type": "markdown",
      "metadata": {
        "id": "i0td55ll6X54"
      },
      "source": [
        "### Part (a) -- 10%\n",
        "\n",
        "The PyTorch model is implemented for you. Use \n",
        "`run_pytorch_gradient_descent` to train\n",
        "your PyTorch MLP model to obtain a training accuracy of at least 38%.\n",
        "Plot the learning curve using the `plot_learning_curve` function provided\n",
        "to you, and include your plot in your PDF submission.\n"
      ]
    },
    {
      "cell_type": "code",
      "execution_count": null,
      "metadata": {
        "id": "HqWlfclh6X54",
        "outputId": "6bb2dd35-8fad-4c40-ca2a-5a260b3b61ee"
      },
      "outputs": [
        {
          "name": "stdout",
          "output_type": "stream",
          "text": [
            "Iter 0. [Val Acc 0%] [Train Acc 0%, Loss 5.526960]\n",
            "Iter 100. [Val Acc 17%] [Train Acc 17%, Loss 4.143181]\n",
            "Iter 200. [Val Acc 25%] [Train Acc 26%, Loss 3.547626]\n",
            "Iter 300. [Val Acc 28%] [Train Acc 28%, Loss 3.298307]\n",
            "Iter 400. [Val Acc 29%] [Train Acc 30%, Loss 3.099221]\n",
            "Iter 500. [Val Acc 30%] [Train Acc 31%, Loss 2.945246]\n",
            "Iter 600. [Val Acc 31%] [Train Acc 32%, Loss 2.999500]\n",
            "Iter 700. [Val Acc 32%] [Train Acc 32%, Loss 2.841971]\n",
            "Iter 800. [Val Acc 32%] [Train Acc 33%, Loss 2.822506]\n",
            "Iter 900. [Val Acc 33%] [Train Acc 34%, Loss 2.826241]\n",
            "Iter 1000. [Val Acc 33%] [Train Acc 34%, Loss 2.858921]\n",
            "Iter 1100. [Val Acc 33%] [Train Acc 34%, Loss 2.890305]\n",
            "Iter 1200. [Val Acc 34%] [Train Acc 35%, Loss 2.862335]\n",
            "Iter 1300. [Val Acc 34%] [Train Acc 35%, Loss 2.695683]\n",
            "Iter 1400. [Val Acc 34%] [Train Acc 35%, Loss 2.780556]\n",
            "Iter 1500. [Val Acc 34%] [Train Acc 35%, Loss 2.736894]\n",
            "Iter 1600. [Val Acc 34%] [Train Acc 35%, Loss 2.754874]\n",
            "Iter 1700. [Val Acc 35%] [Train Acc 36%, Loss 2.578954]\n",
            "Iter 1800. [Val Acc 35%] [Train Acc 36%, Loss 2.621938]\n",
            "Iter 1900. [Val Acc 35%] [Train Acc 36%, Loss 2.685630]\n",
            "Iter 2000. [Val Acc 35%] [Train Acc 36%, Loss 2.600024]\n",
            "Iter 2100. [Val Acc 35%] [Train Acc 36%, Loss 2.688038]\n",
            "Iter 2200. [Val Acc 36%] [Train Acc 36%, Loss 2.681607]\n",
            "Iter 2300. [Val Acc 36%] [Train Acc 37%, Loss 2.752508]\n",
            "Iter 2400. [Val Acc 36%] [Train Acc 37%, Loss 2.570734]\n",
            "Iter 2500. [Val Acc 36%] [Train Acc 37%, Loss 2.588560]\n",
            "Iter 2600. [Val Acc 36%] [Train Acc 37%, Loss 2.675334]\n",
            "Iter 2700. [Val Acc 36%] [Train Acc 37%, Loss 2.596104]\n",
            "Iter 2800. [Val Acc 36%] [Train Acc 37%, Loss 2.611314]\n",
            "Iter 2900. [Val Acc 36%] [Train Acc 37%, Loss 2.663829]\n",
            "Iter 3000. [Val Acc 36%] [Train Acc 38%, Loss 2.432073]\n",
            "Iter 3100. [Val Acc 36%] [Train Acc 38%, Loss 2.482648]\n",
            "Iter 3200. [Val Acc 37%] [Train Acc 38%, Loss 2.589179]\n",
            "Iter 3300. [Val Acc 36%] [Train Acc 38%, Loss 2.453802]\n",
            "Iter 3400. [Val Acc 37%] [Train Acc 38%, Loss 2.562616]\n",
            "Iter 3500. [Val Acc 37%] [Train Acc 38%, Loss 2.592646]\n",
            "Iter 3600. [Val Acc 37%] [Train Acc 38%, Loss 2.542063]\n",
            "Iter 3700. [Val Acc 37%] [Train Acc 38%, Loss 2.625161]\n",
            "Iter 3800. [Val Acc 37%] [Train Acc 38%, Loss 2.572369]\n",
            "Iter 3900. [Val Acc 37%] [Train Acc 38%, Loss 2.513774]\n",
            "Iter 4000. [Val Acc 37%] [Train Acc 38%, Loss 2.491207]\n",
            "Iter 4100. [Val Acc 37%] [Train Acc 38%, Loss 2.503082]\n",
            "Iter 4200. [Val Acc 37%] [Train Acc 39%, Loss 2.635865]\n",
            "Iter 4300. [Val Acc 37%] [Train Acc 39%, Loss 2.566140]\n",
            "Iter 4400. [Val Acc 37%] [Train Acc 38%, Loss 2.492170]\n",
            "Iter 4500. [Val Acc 37%] [Train Acc 39%, Loss 2.475454]\n",
            "Iter 4600. [Val Acc 37%] [Train Acc 39%, Loss 2.563195]\n",
            "Iter 4700. [Val Acc 37%] [Train Acc 39%, Loss 2.431082]\n",
            "Iter 4800. [Val Acc 37%] [Train Acc 39%, Loss 2.511519]\n",
            "Iter 4900. [Val Acc 37%] [Train Acc 39%, Loss 2.375038]\n",
            "Iter 5000. [Val Acc 37%] [Train Acc 39%, Loss 2.481685]\n",
            "Iter 5100. [Val Acc 37%] [Train Acc 39%, Loss 2.395159]\n",
            "Iter 5200. [Val Acc 37%] [Train Acc 39%, Loss 2.417814]\n",
            "Iter 5300. [Val Acc 37%] [Train Acc 39%, Loss 2.458608]\n",
            "Iter 5400. [Val Acc 37%] [Train Acc 39%, Loss 2.517478]\n",
            "Iter 5500. [Val Acc 37%] [Train Acc 39%, Loss 2.410443]\n",
            "Iter 5600. [Val Acc 37%] [Train Acc 40%, Loss 2.427494]\n",
            "Iter 5700. [Val Acc 38%] [Train Acc 40%, Loss 2.518763]\n",
            "Iter 5800. [Val Acc 38%] [Train Acc 39%, Loss 2.426320]\n",
            "Iter 5900. [Val Acc 37%] [Train Acc 39%, Loss 2.399690]\n",
            "Iter 6000. [Val Acc 38%] [Train Acc 40%, Loss 2.310831]\n",
            "Iter 6100. [Val Acc 38%] [Train Acc 40%, Loss 2.507221]\n",
            "Iter 6200. [Val Acc 38%] [Train Acc 40%, Loss 2.364627]\n",
            "Iter 6300. [Val Acc 37%] [Train Acc 40%, Loss 2.333470]\n",
            "Iter 6400. [Val Acc 38%] [Train Acc 40%, Loss 2.472673]\n",
            "Iter 6500. [Val Acc 38%] [Train Acc 40%, Loss 2.334211]\n",
            "Iter 6600. [Val Acc 38%] [Train Acc 40%, Loss 2.485426]\n",
            "Iter 6700. [Val Acc 38%] [Train Acc 40%, Loss 2.457944]\n",
            "Iter 6800. [Val Acc 38%] [Train Acc 40%, Loss 2.288240]\n",
            "Iter 6900. [Val Acc 38%] [Train Acc 40%, Loss 2.407729]\n",
            "Iter 7000. [Val Acc 38%] [Train Acc 40%, Loss 2.425586]\n",
            "Iter 7100. [Val Acc 38%] [Train Acc 40%, Loss 2.494062]\n",
            "Iter 7200. [Val Acc 38%] [Train Acc 40%, Loss 2.429035]\n",
            "Iter 7300. [Val Acc 38%] [Train Acc 40%, Loss 2.410824]\n",
            "Iter 7400. [Val Acc 38%] [Train Acc 40%, Loss 2.435575]\n",
            "Iter 7500. [Val Acc 38%] [Train Acc 40%, Loss 2.396933]\n",
            "Iter 7600. [Val Acc 38%] [Train Acc 40%, Loss 2.386548]\n",
            "Iter 7700. [Val Acc 38%] [Train Acc 40%, Loss 2.319656]\n",
            "Iter 7800. [Val Acc 38%] [Train Acc 40%, Loss 2.318830]\n",
            "Iter 7900. [Val Acc 38%] [Train Acc 40%, Loss 2.308870]\n",
            "Iter 8000. [Val Acc 38%] [Train Acc 40%, Loss 2.364629]\n",
            "Iter 8100. [Val Acc 38%] [Train Acc 40%, Loss 2.365221]\n",
            "Iter 8200. [Val Acc 38%] [Train Acc 41%, Loss 2.520310]\n",
            "Iter 8300. [Val Acc 38%] [Train Acc 40%, Loss 2.470434]\n",
            "Iter 8400. [Val Acc 38%] [Train Acc 40%, Loss 2.421284]\n",
            "Iter 8500. [Val Acc 38%] [Train Acc 40%, Loss 2.431093]\n",
            "Iter 8600. [Val Acc 38%] [Train Acc 41%, Loss 2.394140]\n",
            "Iter 8700. [Val Acc 38%] [Train Acc 41%, Loss 2.342880]\n",
            "Iter 8800. [Val Acc 38%] [Train Acc 40%, Loss 2.362695]\n",
            "Iter 8900. [Val Acc 38%] [Train Acc 41%, Loss 2.480782]\n",
            "Iter 9000. [Val Acc 38%] [Train Acc 41%, Loss 2.330928]\n",
            "Iter 9100. [Val Acc 38%] [Train Acc 41%, Loss 2.356022]\n",
            "Iter 9200. [Val Acc 38%] [Train Acc 41%, Loss 2.341159]\n",
            "Iter 9300. [Val Acc 38%] [Train Acc 41%, Loss 2.376610]\n",
            "Iter 9400. [Val Acc 38%] [Train Acc 41%, Loss 2.252277]\n",
            "Iter 9500. [Val Acc 38%] [Train Acc 41%, Loss 2.519171]\n",
            "Iter 9600. [Val Acc 38%] [Train Acc 40%, Loss 2.425614]\n",
            "Iter 9700. [Val Acc 38%] [Train Acc 41%, Loss 2.339492]\n",
            "Iter 9800. [Val Acc 38%] [Train Acc 41%, Loss 2.312728]\n",
            "Iter 9900. [Val Acc 38%] [Train Acc 41%, Loss 2.288277]\n",
            "Iter 10000. [Val Acc 38%] [Train Acc 41%, Loss 2.310812]\n"
          ]
        },
        {
          "data": {
            "image/png": "[encoded data removed]",
            "text/plain": [
              "<Figure size 432x288 with 1 Axes>"
            ]
          },
          "metadata": {
            "needs_background": "light"
          },
          "output_type": "display_data"
        },
        {
          "data": {
            "image/png": "[encoded data removed]",
            "text/plain": [
              "<Figure size 432x288 with 1 Axes>"
            ]
          },
          "metadata": {
            "needs_background": "light"
          },
          "output_type": "display_data"
        }
      ],
      "source": [
        "class PyTorchWordEmb(nn.Module):\n",
        "    def __init__(self, emb_size=100, num_hidden=300, vocab_size=250):\n",
        "        super(PyTorchWordEmb, self).__init__()\n",
        "        self.word_emb_layer = nn.Linear(vocab_size, emb_size, bias=False)\n",
        "        self.fc_layer1 = nn.Linear(emb_size * 3, num_hidden)\n",
        "        self.fc_layer2 = nn.Linear(num_hidden, 250)\n",
        "        self.num_hidden = num_hidden\n",
        "        self.emb_size = emb_size\n",
        "    def forward(self, inp):\n",
        "        embeddings = torch.relu(self.word_emb_layer(inp))\n",
        "        embeddings = embeddings.reshape([-1, self.emb_size * 3])\n",
        "        hidden = torch.relu(self.fc_layer1(embeddings))\n",
        "        return self.fc_layer2(hidden)\n",
        "\n",
        "pytorch_wordemb= PyTorchWordEmb()\n",
        "\n",
        "result = run_pytorch_gradient_descent(pytorch_wordemb,\n",
        "                                      max_iters=10000,\n",
        "                                      batch_size=1000\n",
        "                                      )\n",
        "#                                       ...)\n",
        "\n",
        "plot_learning_curve(*result)"
      ]
    },
    {
      "cell_type": "markdown",
      "metadata": {
        "id": "oekGJRad6X54"
      },
      "source": [
        "### Part (b) -- 10%\n",
        "\n",
        "Use the function `make_prediction` that you wrote earlier to predict what the next word should be in each of the following sentences:\n",
        "\n",
        "- \"You are a\"\n",
        "- \"few companies show\"\n",
        "- \"There are no\"\n",
        "- \"yesterday i was\"\n",
        "- \"the game had\"\n",
        "- \"yesterday the federal\"\n",
        "\n",
        "How do these predictions compared to the previous model?\n",
        "\n",
        "**Print** the output for all of these sentences using the new network and \n",
        "**Write** below how the new results compare to the previous ones.\n",
        "\n",
        "Just like before, if you encounter overfitting,\n",
        "train your model for more iterations, or change the hyperparameters in your\n",
        "model. You may need to do this even if your training accuracy is >=38%."
      ]
    },
    {
      "cell_type": "code",
      "execution_count": null,
      "metadata": {
        "id": "I1W2Vl3g6X54",
        "outputId": "c76b0747-4b30-4a93-d7c8-b0e365c1fc0d"
      },
      "outputs": [
        {
          "name": "stdout",
          "output_type": "stream",
          "text": [
            "good\n",
            ".\n",
            "people\n",
            "nt\n",
            "to\n",
            "government\n"
          ]
        }
      ],
      "source": [
        "print(make_prediction_torch(pytorch_wordemb, [\"you\", \"are\", 'a']))\n",
        "print(make_prediction_torch(pytorch_wordemb, [\"few\", \"companies\", 'show']))\n",
        "print(make_prediction_torch(pytorch_wordemb, [\"there\", \"are\", 'no']))\n",
        "print(make_prediction_torch(pytorch_wordemb, [\"yesterday\", \"i\", 'was']))\n",
        "print(make_prediction_torch(pytorch_wordemb, [\"the\", \"game\", 'had']))\n",
        "print(make_prediction_torch(pytorch_wordemb, [\"yesterday\", \"the\", 'federal']))"
      ]
    },
    {
      "cell_type": "markdown",
      "metadata": {
        "id": "uZQeQXPfGQNB"
      },
      "source": [
        "**Write your explanation here:**"
      ]
    },
    {
      "cell_type": "markdown",
      "metadata": {
        "id": "5vEkpfSF1egI"
      },
      "source": [
        "It doesn't seem like overfitting as the results make sense"
      ]
    },
    {
      "cell_type": "markdown",
      "metadata": {
        "id": "g36bTOV46X54"
      },
      "source": [
        "### Part (c) -- 4%\n",
        "\n",
        "Report the test accuracy of your model"
      ]
    },
    {
      "cell_type": "code",
      "execution_count": null,
      "metadata": {
        "id": "qy8W6XrZ6X54",
        "outputId": "0bbac6e6-edea-462f-b859-144b6505c732"
      },
      "outputs": [
        {
          "data": {
            "text/plain": [
              "0.3833837803987058"
            ]
          },
          "execution_count": 147,
          "metadata": {},
          "output_type": "execute_result"
        }
      ],
      "source": [
        "estimate_accuracy_torch(pytorch_wordemb, test4grams)"
      ]
    },
    {
      "cell_type": "markdown",
      "metadata": {
        "id": "J1fyrlDz6X55"
      },
      "source": [
        "## Question 4. Visualizing Word Embeddings (14%)\n",
        "\n",
        "While training the `PyTorchMLP`, we trained the `word_emb_layer`, which takes a one-hot\n",
        "representation of a word in our vocabulary, and returns a low-dimensional vector\n",
        "representation of that word. In this question, we will explore these word embeddings, which are a key concept in natural language processing.\n",
        "\n",
        "\n",
        "\n",
        "\n",
        "### Part (a) -- 4%\n",
        "\n",
        "The code below extracts the **weights** of the word embedding layer,\n",
        "and converts the PyTorch tensor into an numpy array.\n",
        "Explain why each *row* of `word_emb` contains the vector representing\n",
        "of a word. For example `word_emb[vocab_stoi[\"any\"],:]` contains the\n",
        "vector representation of the word \"any\"."
      ]
    },
    {
      "cell_type": "code",
      "execution_count": null,
      "metadata": {
        "id": "7IvS6JDM6X55"
      },
      "outputs": [],
      "source": [
        "word_emb_weights = list(pytorch_wordemb.word_emb_layer.parameters())[0]\n",
        "word_emb = word_emb_weights.detach().numpy().T\n"
      ]
    },
    {
      "cell_type": "markdown",
      "metadata": {
        "id": "SF_kTjxrkonT"
      },
      "source": [
        "**Write your explanation here:**"
      ]
    },
    {
      "cell_type": "markdown",
      "metadata": {
        "id": "AzkoCR2U1egJ"
      },
      "source": [
        "Because since a one hot representation has 1 only in a single index of a row vector, the dot product with a matrix will return the row at the index.\n",
        "\n",
        "(if we stack the vectors on top of each othere we will get $I$ the identity matrix)"
      ]
    },
    {
      "cell_type": "markdown",
      "metadata": {
        "id": "Hl-JenYz6X55"
      },
      "source": [
        "### Part (b) -- 5%\n",
        "\n",
        "One interesting thing about these word embeddings is that distances\n",
        "in these vector representations of words make some sense! To show this,\n",
        "we have provided code below that computes the *cosine similarity* of\n",
        "every pair of words in our vocabulary. This measure of similarity between vector ${\\bf v}$ and ${\\bf w}$ is defined as \n",
        "   $$\n",
        "   d_{\\rm cos}({\\bf v},{\\bf w}) = \\frac{{\\bf v}^T{\\bf w}}{||{\\bf v}|| ||{\\bf w}||}.\n",
        "   $$  \n",
        "   We also pre-scale the vectors to have a unit norm, using Numpy's `norm` method."
      ]
    },
    {
      "cell_type": "code",
      "execution_count": null,
      "metadata": {
        "id": "MPiv3pFX6X55",
        "outputId": "bae14164-b789-42b3-8a29-aaf2dac94294"
      },
      "outputs": [
        {
          "name": "stdout",
          "output_type": "stream",
          "text": [
            "0.24028605\n",
            "0.08008065\n"
          ]
        }
      ],
      "source": [
        "norms = np.linalg.norm(word_emb, axis=1)\n",
        "word_emb_norm = (word_emb.T / norms).T\n",
        "similarities = np.matmul(word_emb_norm, word_emb_norm.T)\n",
        "\n",
        "# Some example distances. The first one should be larger than the second\n",
        "print(similarities[vocab_stoi['any'], vocab_stoi['many']])\n",
        "print(similarities[vocab_stoi['any'], vocab_stoi['government']])"
      ]
    },
    {
      "cell_type": "markdown",
      "metadata": {
        "id": "1ctM-Mgr6X55"
      },
      "source": [
        "Compute the 5 closest words to the following words:\n",
        "\n",
        "- \"four\"\n",
        "- \"go\"\n",
        "- \"what\"\n",
        "- \"should\"\n",
        "- \"school\"\n",
        "- \"your\"\n",
        "- \"yesterday\"\n",
        "- \"not\""
      ]
    },
    {
      "cell_type": "code",
      "execution_count": null,
      "metadata": {
        "id": "66NCoAE26X55",
        "outputId": "4a284542-e95c-45a0-8b44-29bc63005c93"
      },
      "outputs": [
        {
          "name": "stdout",
          "output_type": "stream",
          "text": [
            "Closest words to four are ['three', 'five', 'two', 'many', 'any']\n",
            "Closest words to go are ['going', 'off', 'come', 'back', 'left']\n",
            "Closest words to what are ['who', 'dr.', 'when', 'group', 'how']\n",
            "Closest words to should are ['could', 'would', 'can', 'might', 'will']\n",
            "Closest words to school are ['street', 'business', 'life', 'first', 'long']\n",
            "Closest words to your are ['my', 'their', 'its', 'our', 'mr.']\n",
            "Closest words to yesterday are ['while', 'now', 'today', 'when', 'states']\n",
            "Closest words to not are ['nt', 'never', 'both', 'being', 'until']\n"
          ]
        }
      ],
      "source": [
        "# Write your code here\n",
        "def get_closest_words(word, n=5):\n",
        "    return [vocab_itos[i] for i in np.argsort(similarities[vocab_stoi[word]])[-2:-n-2:-1]] # the closest entry is the word itself\n",
        "\n",
        "for word in [\"four\",\"go\",\"what\",\"should\",\"school\",\"your\",\"yesterday\",\"not\"]:\n",
        "    print(\"Closest words to %s are %s\" % (word, get_closest_words(word)))"
      ]
    },
    {
      "cell_type": "markdown",
      "metadata": {
        "id": "JJAOG_pg6X55"
      },
      "source": [
        "### Part (c) -- 5%\n",
        "\n",
        "We can visualize the word embeddings by reducing the dimensionality of\n",
        "the word vectors to 2D. There are many dimensionality reduction techniques\n",
        "that we could use, and we will use an algorithm called t-SNE.\n",
        "(You don’t need to know what this is for the assignment; we will cover it later in the course.)\n",
        "Nearby points in this 2-D space are meant to correspond to nearby points\n",
        "in the original, high-dimensional space.\n",
        "\n",
        "The following code runs the t-SNE algorithm and plots the result.\n",
        "\n",
        "Look at the plot and find at least two clusters of related words.\n",
        "\n",
        "**Write** below for each cluster what is the commonality (if there is any) and if they make sense.\n",
        "\n",
        "Note that there is randomness in the initialization of the t-SNE \n",
        "algorithm. If you re-run this code, you may get a different image.\n",
        "Please make sure to submit your image in the PDF file."
      ]
    },
    {
      "cell_type": "code",
      "execution_count": null,
      "metadata": {
        "id": "seD1PgwK6X56",
        "outputId": "212b8b32-d1ca-47a2-c662-5d98d01b6b63"
      },
      "outputs": [
        {
          "name": "stderr",
          "output_type": "stream",
          "text": [
            "c:\\Users\\Shaiel Cohen\\AppData\\Local\\Programs\\Python\\Python39\\lib\\site-packages\\sklearn\\manifold\\_t_sne.py:795: FutureWarning: The default initialization in TSNE will change from 'random' to 'pca' in 1.2.\n",
            "  warnings.warn(\n",
            "c:\\Users\\Shaiel Cohen\\AppData\\Local\\Programs\\Python\\Python39\\lib\\site-packages\\sklearn\\manifold\\_t_sne.py:805: FutureWarning: The default learning rate in TSNE will change from 200.0 to 'auto' in 1.2.\n",
            "  warnings.warn(\n"
          ]
        },
        {
          "data": {
            "image/png": "[encoded data removed]",
            "text/plain": [
              "<Figure size 720x720 with 1 Axes>"
            ]
          },
          "metadata": {
            "needs_background": "light"
          },
          "output_type": "display_data"
        }
      ],
      "source": [
        "import sklearn.manifold\n",
        "tsne = sklearn.manifold.TSNE()\n",
        "Y = tsne.fit_transform(word_emb)\n",
        "\n",
        "plt.figure(figsize=(10, 10))\n",
        "plt.xlim(Y[:,0].min(), Y[:, 0].max())\n",
        "plt.ylim(Y[:,1].min(), Y[:, 1].max())\n",
        "for i, w in enumerate(vocab):\n",
        "    plt.text(Y[i, 0], Y[i, 1], w)\n",
        "plt.show()"
      ]
    },
    {
      "cell_type": "markdown",
      "metadata": {
        "id": "rb4gbqMam8S5"
      },
      "source": [
        "**Explain and discuss your results here:**"
      ]
    },
    {
      "cell_type": "markdown",
      "metadata": {
        "id": "OorVsQeD1egM"
      },
      "source": [
        "Not getting a very clear separation, and with the fact that the results are't consistent, I think that clusters in the high dimension are not very separated.\n",
        "\n",
        "That makes sense because there can be words that have close meaning to widely different words e.g. numbers can have a meaning of few or many depending on the context.\n",
        "\n",
        "That being said conjugation of verbs are clustered together and the more generic words are generally clustered (in different clusters)\n",
        "\n",
        "There are a few odd connections in the current result like work and play being close together"
      ]
    }
  ],
  "metadata": {
    "colab": {
      "provenance": [],
      "toc_visible": true,
      "include_colab_link": true
    },
    "kernelspec": {
      "display_name": "Python 3.9.0 64-bit",
      "language": "python",
      "name": "python3"
    },
    "language_info": {
      "codemirror_mode": {
        "name": "ipython",
        "version": 3
      },
      "file_extension": ".py",
      "mimetype": "text/x-python",
      "name": "python",
      "nbconvert_exporter": "python",
      "pygments_lexer": "ipython3",
      "version": "3.9.0"
    },
    "vscode": {
      "interpreter": {
        "hash": "dfcdbe84488c61d1d3257810f6248fb9784a7a1f1ab0b54f122168a81a48c4b9"
      }
    }
  },
  "nbformat": 4,
  "nbformat_minor": 0
}